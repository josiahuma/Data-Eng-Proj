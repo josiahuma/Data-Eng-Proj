{
 "cells": [
  {
   "cell_type": "markdown",
   "id": "c7a822da",
   "metadata": {},
   "source": [
    "- Extracting data from ebay using python requests and beautiful soup\n",
    "- Transforming the data using python pandas and numpy\n",
    "- Loading the transformed data into postgres database\n",
    "- Analysis and data storytelling using Power BI"
   ]
  },
  {
   "cell_type": "code",
   "execution_count": 3,
   "id": "2c6d2aa9",
   "metadata": {},
   "outputs": [],
   "source": [
    "import requests\n",
    "from bs4 import BeautifulSoup\n",
    "from time import sleep\n",
    "from random import randint\n",
    "import numpy as np\n",
    "import pandas as pd\n",
    "import re"
   ]
  },
  {
   "cell_type": "code",
   "execution_count": 4,
   "id": "1f32a7f5",
   "metadata": {},
   "outputs": [],
   "source": [
    "#declaring the list of empty variables, so that we can append the data overall\n",
    "\n",
    "acc_name = []\n",
    "lap_state = []\n",
    "lap_price = []\n",
    "\n",
    "#creating an array of values and passing it in the url for dynamic webpages\n",
    "pages = np.arange(1,50,1)\n",
    "\n",
    "#the whole core of the script\n",
    "for page in pages:\n",
    "    page = requests.get(\"https://www.ebay.co.uk/e/_electronics/techsale-up-to-60-off-dell-laptops?_dmd=1&rt=nc&_pgn=\"+str(page))\n",
    "    soup = BeautifulSoup(page.text, 'html.parser')\n",
    "    #print(soup.prettify())\n",
    "    acc_data = soup.find_all('div', {'class': 's-item__info clearfix'})\n",
    "    sleep(randint(2,6))\n",
    "    #print(acc_data[0])\n",
    "    for store in acc_data:\n",
    "        name = store.find('h3', {'class': 's-item__title'}).text\n",
    "        acc_name.append(name)\n",
    "        \n",
    "        state = store.find('span', {'class': 's-item__certified-refurbished s-item__certified-refurbished--isLarge'}).text\n",
    "        lap_state.append(state)\n",
    "        \n",
    "        price = store.find('span', {'class': 's-item__price'}).text\n",
    "        lap_price.append(price)\n",
    "        \n",
    "data = pd.DataFrame({\"Lap detail\": acc_name, \"Laptop State\": lap_state, \"Laptop Price\": lap_price})\n",
    "\n",
    "#print(data.head())\n",
    "\n",
    "data.to_csv('ebay_laptops.csv', index=None)"
   ]
  },
  {
   "cell_type": "code",
   "execution_count": 5,
   "id": "ea995dfd",
   "metadata": {
    "scrolled": true
   },
   "outputs": [
    {
     "ename": "FileNotFoundError",
     "evalue": "[Errno 2] No such file or directory: 'C:\\\\Users\\\\Josiah\\\\10Alytics\\\\Data-Engineering\\\\Python\\\\Data-Eng-Proj\\\\Global Sygnature\\\\ebay_laptops.csv'",
     "output_type": "error",
     "traceback": [
      "\u001b[0;31m---------------------------------------------------------------------------\u001b[0m",
      "\u001b[0;31mFileNotFoundError\u001b[0m                         Traceback (most recent call last)",
      "Cell \u001b[0;32mIn[5], line 1\u001b[0m\n\u001b[0;32m----> 1\u001b[0m data \u001b[38;5;241m=\u001b[39m \u001b[43mpd\u001b[49m\u001b[38;5;241;43m.\u001b[39;49m\u001b[43mread_csv\u001b[49m\u001b[43m(\u001b[49m\u001b[38;5;124;43mr\u001b[39;49m\u001b[38;5;124;43m'\u001b[39;49m\u001b[38;5;124;43mC:\u001b[39;49m\u001b[38;5;124;43m\\\u001b[39;49m\u001b[38;5;124;43mUsers\u001b[39;49m\u001b[38;5;124;43m\\\u001b[39;49m\u001b[38;5;124;43mJosiah\u001b[39;49m\u001b[38;5;124;43m\\\u001b[39;49m\u001b[38;5;124;43m10Alytics\u001b[39;49m\u001b[38;5;124;43m\\\u001b[39;49m\u001b[38;5;124;43mData-Engineering\u001b[39;49m\u001b[38;5;124;43m\\\u001b[39;49m\u001b[38;5;124;43mPython\u001b[39;49m\u001b[38;5;124;43m\\\u001b[39;49m\u001b[38;5;124;43mData-Eng-Proj\u001b[39;49m\u001b[38;5;124;43m\\\u001b[39;49m\u001b[38;5;124;43mGlobal Sygnature\u001b[39;49m\u001b[38;5;124;43m\\\u001b[39;49m\u001b[38;5;124;43mebay_laptops.csv\u001b[39;49m\u001b[38;5;124;43m'\u001b[39;49m\u001b[43m)\u001b[49m\n\u001b[1;32m      2\u001b[0m pd\u001b[38;5;241m.\u001b[39mset_option(\u001b[38;5;124m'\u001b[39m\u001b[38;5;124mdisplay.max_colwidth\u001b[39m\u001b[38;5;124m'\u001b[39m, \u001b[38;5;28;01mNone\u001b[39;00m)\n\u001b[1;32m      3\u001b[0m data\u001b[38;5;241m.\u001b[39mhead()\n",
      "File \u001b[0;32m~/airflow-env/lib/python3.11/site-packages/pandas/io/parsers/readers.py:948\u001b[0m, in \u001b[0;36mread_csv\u001b[0;34m(filepath_or_buffer, sep, delimiter, header, names, index_col, usecols, dtype, engine, converters, true_values, false_values, skipinitialspace, skiprows, skipfooter, nrows, na_values, keep_default_na, na_filter, verbose, skip_blank_lines, parse_dates, infer_datetime_format, keep_date_col, date_parser, date_format, dayfirst, cache_dates, iterator, chunksize, compression, thousands, decimal, lineterminator, quotechar, quoting, doublequote, escapechar, comment, encoding, encoding_errors, dialect, on_bad_lines, delim_whitespace, low_memory, memory_map, float_precision, storage_options, dtype_backend)\u001b[0m\n\u001b[1;32m    935\u001b[0m kwds_defaults \u001b[38;5;241m=\u001b[39m _refine_defaults_read(\n\u001b[1;32m    936\u001b[0m     dialect,\n\u001b[1;32m    937\u001b[0m     delimiter,\n\u001b[0;32m   (...)\u001b[0m\n\u001b[1;32m    944\u001b[0m     dtype_backend\u001b[38;5;241m=\u001b[39mdtype_backend,\n\u001b[1;32m    945\u001b[0m )\n\u001b[1;32m    946\u001b[0m kwds\u001b[38;5;241m.\u001b[39mupdate(kwds_defaults)\n\u001b[0;32m--> 948\u001b[0m \u001b[38;5;28;01mreturn\u001b[39;00m \u001b[43m_read\u001b[49m\u001b[43m(\u001b[49m\u001b[43mfilepath_or_buffer\u001b[49m\u001b[43m,\u001b[49m\u001b[43m \u001b[49m\u001b[43mkwds\u001b[49m\u001b[43m)\u001b[49m\n",
      "File \u001b[0;32m~/airflow-env/lib/python3.11/site-packages/pandas/io/parsers/readers.py:611\u001b[0m, in \u001b[0;36m_read\u001b[0;34m(filepath_or_buffer, kwds)\u001b[0m\n\u001b[1;32m    608\u001b[0m _validate_names(kwds\u001b[38;5;241m.\u001b[39mget(\u001b[38;5;124m\"\u001b[39m\u001b[38;5;124mnames\u001b[39m\u001b[38;5;124m\"\u001b[39m, \u001b[38;5;28;01mNone\u001b[39;00m))\n\u001b[1;32m    610\u001b[0m \u001b[38;5;66;03m# Create the parser.\u001b[39;00m\n\u001b[0;32m--> 611\u001b[0m parser \u001b[38;5;241m=\u001b[39m \u001b[43mTextFileReader\u001b[49m\u001b[43m(\u001b[49m\u001b[43mfilepath_or_buffer\u001b[49m\u001b[43m,\u001b[49m\u001b[43m \u001b[49m\u001b[38;5;241;43m*\u001b[39;49m\u001b[38;5;241;43m*\u001b[39;49m\u001b[43mkwds\u001b[49m\u001b[43m)\u001b[49m\n\u001b[1;32m    613\u001b[0m \u001b[38;5;28;01mif\u001b[39;00m chunksize \u001b[38;5;129;01mor\u001b[39;00m iterator:\n\u001b[1;32m    614\u001b[0m     \u001b[38;5;28;01mreturn\u001b[39;00m parser\n",
      "File \u001b[0;32m~/airflow-env/lib/python3.11/site-packages/pandas/io/parsers/readers.py:1448\u001b[0m, in \u001b[0;36mTextFileReader.__init__\u001b[0;34m(self, f, engine, **kwds)\u001b[0m\n\u001b[1;32m   1445\u001b[0m     \u001b[38;5;28mself\u001b[39m\u001b[38;5;241m.\u001b[39moptions[\u001b[38;5;124m\"\u001b[39m\u001b[38;5;124mhas_index_names\u001b[39m\u001b[38;5;124m\"\u001b[39m] \u001b[38;5;241m=\u001b[39m kwds[\u001b[38;5;124m\"\u001b[39m\u001b[38;5;124mhas_index_names\u001b[39m\u001b[38;5;124m\"\u001b[39m]\n\u001b[1;32m   1447\u001b[0m \u001b[38;5;28mself\u001b[39m\u001b[38;5;241m.\u001b[39mhandles: IOHandles \u001b[38;5;241m|\u001b[39m \u001b[38;5;28;01mNone\u001b[39;00m \u001b[38;5;241m=\u001b[39m \u001b[38;5;28;01mNone\u001b[39;00m\n\u001b[0;32m-> 1448\u001b[0m \u001b[38;5;28mself\u001b[39m\u001b[38;5;241m.\u001b[39m_engine \u001b[38;5;241m=\u001b[39m \u001b[38;5;28;43mself\u001b[39;49m\u001b[38;5;241;43m.\u001b[39;49m\u001b[43m_make_engine\u001b[49m\u001b[43m(\u001b[49m\u001b[43mf\u001b[49m\u001b[43m,\u001b[49m\u001b[43m \u001b[49m\u001b[38;5;28;43mself\u001b[39;49m\u001b[38;5;241;43m.\u001b[39;49m\u001b[43mengine\u001b[49m\u001b[43m)\u001b[49m\n",
      "File \u001b[0;32m~/airflow-env/lib/python3.11/site-packages/pandas/io/parsers/readers.py:1705\u001b[0m, in \u001b[0;36mTextFileReader._make_engine\u001b[0;34m(self, f, engine)\u001b[0m\n\u001b[1;32m   1703\u001b[0m     \u001b[38;5;28;01mif\u001b[39;00m \u001b[38;5;124m\"\u001b[39m\u001b[38;5;124mb\u001b[39m\u001b[38;5;124m\"\u001b[39m \u001b[38;5;129;01mnot\u001b[39;00m \u001b[38;5;129;01min\u001b[39;00m mode:\n\u001b[1;32m   1704\u001b[0m         mode \u001b[38;5;241m+\u001b[39m\u001b[38;5;241m=\u001b[39m \u001b[38;5;124m\"\u001b[39m\u001b[38;5;124mb\u001b[39m\u001b[38;5;124m\"\u001b[39m\n\u001b[0;32m-> 1705\u001b[0m \u001b[38;5;28mself\u001b[39m\u001b[38;5;241m.\u001b[39mhandles \u001b[38;5;241m=\u001b[39m \u001b[43mget_handle\u001b[49m\u001b[43m(\u001b[49m\n\u001b[1;32m   1706\u001b[0m \u001b[43m    \u001b[49m\u001b[43mf\u001b[49m\u001b[43m,\u001b[49m\n\u001b[1;32m   1707\u001b[0m \u001b[43m    \u001b[49m\u001b[43mmode\u001b[49m\u001b[43m,\u001b[49m\n\u001b[1;32m   1708\u001b[0m \u001b[43m    \u001b[49m\u001b[43mencoding\u001b[49m\u001b[38;5;241;43m=\u001b[39;49m\u001b[38;5;28;43mself\u001b[39;49m\u001b[38;5;241;43m.\u001b[39;49m\u001b[43moptions\u001b[49m\u001b[38;5;241;43m.\u001b[39;49m\u001b[43mget\u001b[49m\u001b[43m(\u001b[49m\u001b[38;5;124;43m\"\u001b[39;49m\u001b[38;5;124;43mencoding\u001b[39;49m\u001b[38;5;124;43m\"\u001b[39;49m\u001b[43m,\u001b[49m\u001b[43m \u001b[49m\u001b[38;5;28;43;01mNone\u001b[39;49;00m\u001b[43m)\u001b[49m\u001b[43m,\u001b[49m\n\u001b[1;32m   1709\u001b[0m \u001b[43m    \u001b[49m\u001b[43mcompression\u001b[49m\u001b[38;5;241;43m=\u001b[39;49m\u001b[38;5;28;43mself\u001b[39;49m\u001b[38;5;241;43m.\u001b[39;49m\u001b[43moptions\u001b[49m\u001b[38;5;241;43m.\u001b[39;49m\u001b[43mget\u001b[49m\u001b[43m(\u001b[49m\u001b[38;5;124;43m\"\u001b[39;49m\u001b[38;5;124;43mcompression\u001b[39;49m\u001b[38;5;124;43m\"\u001b[39;49m\u001b[43m,\u001b[49m\u001b[43m \u001b[49m\u001b[38;5;28;43;01mNone\u001b[39;49;00m\u001b[43m)\u001b[49m\u001b[43m,\u001b[49m\n\u001b[1;32m   1710\u001b[0m \u001b[43m    \u001b[49m\u001b[43mmemory_map\u001b[49m\u001b[38;5;241;43m=\u001b[39;49m\u001b[38;5;28;43mself\u001b[39;49m\u001b[38;5;241;43m.\u001b[39;49m\u001b[43moptions\u001b[49m\u001b[38;5;241;43m.\u001b[39;49m\u001b[43mget\u001b[49m\u001b[43m(\u001b[49m\u001b[38;5;124;43m\"\u001b[39;49m\u001b[38;5;124;43mmemory_map\u001b[39;49m\u001b[38;5;124;43m\"\u001b[39;49m\u001b[43m,\u001b[49m\u001b[43m \u001b[49m\u001b[38;5;28;43;01mFalse\u001b[39;49;00m\u001b[43m)\u001b[49m\u001b[43m,\u001b[49m\n\u001b[1;32m   1711\u001b[0m \u001b[43m    \u001b[49m\u001b[43mis_text\u001b[49m\u001b[38;5;241;43m=\u001b[39;49m\u001b[43mis_text\u001b[49m\u001b[43m,\u001b[49m\n\u001b[1;32m   1712\u001b[0m \u001b[43m    \u001b[49m\u001b[43merrors\u001b[49m\u001b[38;5;241;43m=\u001b[39;49m\u001b[38;5;28;43mself\u001b[39;49m\u001b[38;5;241;43m.\u001b[39;49m\u001b[43moptions\u001b[49m\u001b[38;5;241;43m.\u001b[39;49m\u001b[43mget\u001b[49m\u001b[43m(\u001b[49m\u001b[38;5;124;43m\"\u001b[39;49m\u001b[38;5;124;43mencoding_errors\u001b[39;49m\u001b[38;5;124;43m\"\u001b[39;49m\u001b[43m,\u001b[49m\u001b[43m \u001b[49m\u001b[38;5;124;43m\"\u001b[39;49m\u001b[38;5;124;43mstrict\u001b[39;49m\u001b[38;5;124;43m\"\u001b[39;49m\u001b[43m)\u001b[49m\u001b[43m,\u001b[49m\n\u001b[1;32m   1713\u001b[0m \u001b[43m    \u001b[49m\u001b[43mstorage_options\u001b[49m\u001b[38;5;241;43m=\u001b[39;49m\u001b[38;5;28;43mself\u001b[39;49m\u001b[38;5;241;43m.\u001b[39;49m\u001b[43moptions\u001b[49m\u001b[38;5;241;43m.\u001b[39;49m\u001b[43mget\u001b[49m\u001b[43m(\u001b[49m\u001b[38;5;124;43m\"\u001b[39;49m\u001b[38;5;124;43mstorage_options\u001b[39;49m\u001b[38;5;124;43m\"\u001b[39;49m\u001b[43m,\u001b[49m\u001b[43m \u001b[49m\u001b[38;5;28;43;01mNone\u001b[39;49;00m\u001b[43m)\u001b[49m\u001b[43m,\u001b[49m\n\u001b[1;32m   1714\u001b[0m \u001b[43m\u001b[49m\u001b[43m)\u001b[49m\n\u001b[1;32m   1715\u001b[0m \u001b[38;5;28;01massert\u001b[39;00m \u001b[38;5;28mself\u001b[39m\u001b[38;5;241m.\u001b[39mhandles \u001b[38;5;129;01mis\u001b[39;00m \u001b[38;5;129;01mnot\u001b[39;00m \u001b[38;5;28;01mNone\u001b[39;00m\n\u001b[1;32m   1716\u001b[0m f \u001b[38;5;241m=\u001b[39m \u001b[38;5;28mself\u001b[39m\u001b[38;5;241m.\u001b[39mhandles\u001b[38;5;241m.\u001b[39mhandle\n",
      "File \u001b[0;32m~/airflow-env/lib/python3.11/site-packages/pandas/io/common.py:863\u001b[0m, in \u001b[0;36mget_handle\u001b[0;34m(path_or_buf, mode, encoding, compression, memory_map, is_text, errors, storage_options)\u001b[0m\n\u001b[1;32m    858\u001b[0m \u001b[38;5;28;01melif\u001b[39;00m \u001b[38;5;28misinstance\u001b[39m(handle, \u001b[38;5;28mstr\u001b[39m):\n\u001b[1;32m    859\u001b[0m     \u001b[38;5;66;03m# Check whether the filename is to be opened in binary mode.\u001b[39;00m\n\u001b[1;32m    860\u001b[0m     \u001b[38;5;66;03m# Binary mode does not support 'encoding' and 'newline'.\u001b[39;00m\n\u001b[1;32m    861\u001b[0m     \u001b[38;5;28;01mif\u001b[39;00m ioargs\u001b[38;5;241m.\u001b[39mencoding \u001b[38;5;129;01mand\u001b[39;00m \u001b[38;5;124m\"\u001b[39m\u001b[38;5;124mb\u001b[39m\u001b[38;5;124m\"\u001b[39m \u001b[38;5;129;01mnot\u001b[39;00m \u001b[38;5;129;01min\u001b[39;00m ioargs\u001b[38;5;241m.\u001b[39mmode:\n\u001b[1;32m    862\u001b[0m         \u001b[38;5;66;03m# Encoding\u001b[39;00m\n\u001b[0;32m--> 863\u001b[0m         handle \u001b[38;5;241m=\u001b[39m \u001b[38;5;28;43mopen\u001b[39;49m\u001b[43m(\u001b[49m\n\u001b[1;32m    864\u001b[0m \u001b[43m            \u001b[49m\u001b[43mhandle\u001b[49m\u001b[43m,\u001b[49m\n\u001b[1;32m    865\u001b[0m \u001b[43m            \u001b[49m\u001b[43mioargs\u001b[49m\u001b[38;5;241;43m.\u001b[39;49m\u001b[43mmode\u001b[49m\u001b[43m,\u001b[49m\n\u001b[1;32m    866\u001b[0m \u001b[43m            \u001b[49m\u001b[43mencoding\u001b[49m\u001b[38;5;241;43m=\u001b[39;49m\u001b[43mioargs\u001b[49m\u001b[38;5;241;43m.\u001b[39;49m\u001b[43mencoding\u001b[49m\u001b[43m,\u001b[49m\n\u001b[1;32m    867\u001b[0m \u001b[43m            \u001b[49m\u001b[43merrors\u001b[49m\u001b[38;5;241;43m=\u001b[39;49m\u001b[43merrors\u001b[49m\u001b[43m,\u001b[49m\n\u001b[1;32m    868\u001b[0m \u001b[43m            \u001b[49m\u001b[43mnewline\u001b[49m\u001b[38;5;241;43m=\u001b[39;49m\u001b[38;5;124;43m\"\u001b[39;49m\u001b[38;5;124;43m\"\u001b[39;49m\u001b[43m,\u001b[49m\n\u001b[1;32m    869\u001b[0m \u001b[43m        \u001b[49m\u001b[43m)\u001b[49m\n\u001b[1;32m    870\u001b[0m     \u001b[38;5;28;01melse\u001b[39;00m:\n\u001b[1;32m    871\u001b[0m         \u001b[38;5;66;03m# Binary mode\u001b[39;00m\n\u001b[1;32m    872\u001b[0m         handle \u001b[38;5;241m=\u001b[39m \u001b[38;5;28mopen\u001b[39m(handle, ioargs\u001b[38;5;241m.\u001b[39mmode)\n",
      "\u001b[0;31mFileNotFoundError\u001b[0m: [Errno 2] No such file or directory: 'C:\\\\Users\\\\Josiah\\\\10Alytics\\\\Data-Engineering\\\\Python\\\\Data-Eng-Proj\\\\Global Sygnature\\\\ebay_laptops.csv'"
     ]
    }
   ],
   "source": [
    "data = pd.read_csv(r'C:\\Users\\Josiah\\10Alytics\\Data-Engineering\\Python\\Data-Eng-Proj\\Global Sygnature\\ebay_laptops.csv')\n",
    "pd.set_option('display.max_colwidth', None)\n",
    "data.head()\n",
    "\n"
   ]
  },
  {
   "cell_type": "code",
   "execution_count": 34,
   "id": "13ac9c5b",
   "metadata": {},
   "outputs": [],
   "source": [
    "data['Drive Size'] = data['Lap detail'].str.extract(r'(64|120|240|128|160|255|256|500)GB')\n",
    "\n",
    "data['RAM'] = data['Lap detail'].str.extract(r'(RAM|Ram|ram)')\n",
    "\n",
    "data['RAM Size'] = data['Lap detail'].str.extract(r'(2GB|2gb|3GB|3gb|4GB|4gb|6GB|6gb|8GB|8gb|12GB|12gb|16GB|16gb|32GB|32gb|64GB|64gb)')\n",
    "\n",
    "#This is to help create \"Lap OS\" column\n",
    "data['Laptop OS'] = np.where(data['Lap detail'].str.contains(r'(?:WINDOWS 11|Windows 11|win11)'), \"Windows\",\n",
    "                    np.where(data['Lap detail'].str.contains(r'(?:macOS|mac OS|Mac|MAC|Macbook Pro|mac)'), \"Mac OS\",\n",
    "                    np.where(data['Lap detail'].str.contains(r'(?:chrome|CHROMEBOOK)'), \"Chromebook\",\"Unspecified OS\")))\n",
    "\n",
    "#This is to help create \"Drive Type\" column\n",
    "data['Drive Type'] = np.where(data['Lap detail'].str.contains(r'(?:SSD|ssd)'), \"SSD\",\n",
    "                     np.where(data['Lap detail'].str.contains(r'(?:HDD|hdd|Hard Disk|Hdd|Harddisk)'), \"HDD\", \"Unspecified Disk Type\"))\n",
    "\n",
    "# #This is to help create \"Processor Type\" column\n",
    "data['Processor Type'] = np.where(data['Lap detail'].str.contains(r'(?:dual core|Dual Core|DUAL CORE)'),\"Intel Dual Core\",\n",
    "                         np.where(data['Lap detail'].str.contains(r'(?:core i3|Core i3|CORE i3)'),\"Intel Core i3\",\n",
    "                         np.where(data['Lap detail'].str.contains(r'(?:core i5|Core i5|CORE i5)'),\"Intel Core i5\",\n",
    "                         np.where(data['Lap detail'].str.contains(r'(?:core i7|Core i7|CORE i7)'),\"Intel Core i7\",\n",
    "                         np.where(data['Lap detail'].str.contains(r'(?:core i9|Core i9|CORE i9)'),\"Intel Core i9\",\n",
    "                         np.where(data['Lap detail'].str.contains(r'(?:ryzen 3|Ryzen 3|RYZEN 3)'),\"AMD Ryzen 3\",\n",
    "                         np.where(data['Lap detail'].str.contains(r'(?:ryzen 5|Ryzen 5|RYZEN 5)'),\"AMD Ryzen 5\",\n",
    "                         np.where(data['Lap detail'].str.contains(r'(?:ryzen 7|Ryzen 7|RYZEN 7)'),\"AMD Ryzen 7\",\n",
    "                         np.where(data['Lap detail'].str.contains(r'(?:ryzen 9|Ryzen 9|RYZEN 9)'),\"AMD Ryzen 9\",\"Others\")))))))))\n",
    "\n",
    "#This is to help create \"Laptop Brand\" column\n",
    "data['Laptop Brand'] = np.where(data['Lap detail'].str.contains(r'(?:Apple|apple|Mac|APPLE|mac|MAC)'),\"Apple\",\n",
    "                       np.where(data['Lap detail'].str.contains(r'(?:Hp|hp|HP)'),\"HP\",\n",
    "                       np.where(data['Lap detail'].str.contains(r'(?:Lenovo|lenovo|LENOVO)'),\"Lenovo\",\n",
    "                       np.where(data['Lap detail'].str.contains(r'(?:Dell|dell|DELL)'),\"Dell\",\n",
    "                       np.where(data['Lap detail'].str.contains(r'(?:Acer|acer|ACER)'),\"Acer\",\n",
    "                       np.where(data['Lap detail'].str.contains(r'(?:Asus|asus|ASUS)'),\"Asus\",\n",
    "                       np.where(data['Lap detail'].str.contains(r'(?:MSI|msi|Msi)'),\"MSI\",\n",
    "                       np.where(data['Lap detail'].str.contains(r'(?:Microsoft Surface|Surface|Microsoft|microsoft)'),\"Microsoft Surface\",\n",
    "                       np.where(data['Lap detail'].str.contains(r'(?:ryzen|Ryzen|RYZEN)'),\"Razer\",\n",
    "                       np.where(data['Lap detail'].str.contains(r'(?:samsung|Samsung|SAMSUNG)'),\"Samsung\",\"Other Brand\"))))))))))\n",
    "\n",
    "#This is to rename the column names and keep the naming consistent with snake case\n",
    "data.rename(columns = {'Lap detail':'lap_detail', 'Laptop State':'laptop_state', 'Laptop Price':'laptop_price', 'Drive Size':'drive_size',\n",
    "                       'RAM':'ram', 'RAM Size':'ram_size', 'Laptop OS':'laptop_os', 'Lap OS':'lap_os', 'Drive Type':'drive_type',\n",
    "                       'Processor Type':'processor_type', 'Laptop Brand':'laptop_brand'}, inplace = True)\n",
    "\n",
    "#Replace every instance of comma with empty string\n",
    "data['lap_detail']=data['lap_detail'].str.replace(',','')\n",
    "data['laptop_price']=data['laptop_price'].str.replace(',','')\n",
    "\n",
    "data.to_csv('laptops.csv', index = None)\n",
    "    "
   ]
  },
  {
   "cell_type": "code",
   "execution_count": 35,
   "id": "2f11a522",
   "metadata": {},
   "outputs": [],
   "source": [
    "from sqlalchemy import create_engine\n",
    "import os\n",
    "import psycopg2\n",
    "\n",
    "# Database Credentials\n",
    "username = os.environ['USER']\n",
    "password = os.environ['PASS']\n",
    "host = 'localhost'\n",
    "port = 5433\n",
    "db_name = 'Ebay_Laptops'"
   ]
  },
  {
   "cell_type": "code",
   "execution_count": 36,
   "id": "b6b02b93",
   "metadata": {},
   "outputs": [],
   "source": [
    "conn = None \n",
    "cur = None \n",
    "try: \n",
    "    conn = psycopg2.connect(host = host, dbname = db_name, user = username, password = password, port = port)\n",
    "    cur = conn.cursor()\n",
    "    cur.execute('DROP TABLE IF EXISTS laptops')\n",
    "    create_script = '''CREATE TABLE IF NOT EXISTS laptops (\n",
    "                    Lap_detail varchar(300) NOT NULL,\n",
    "                    laptop_state varchar(50),\n",
    "                    laptop_price varchar(50),\n",
    "                    drive_size varchar(50),\n",
    "                    ram varchar(50),\n",
    "                    ram_size varchar(10),\n",
    "                    laptop_os varchar(50),\n",
    "                    drive_type varchar(50),\n",
    "                    processor_type varchar(50),\n",
    "                    laptop_brands varchar(50))'''\n",
    "    cur.execute(create_script) \n",
    "    with open('laptops.csv', 'r', encoding=\"mbcs\") as f: \n",
    "        next(f) #This skips the header row.\n",
    "        cur.copy_from(f, 'laptops', sep=',')\n",
    "        conn.commit()\n",
    "except Exception as error: \n",
    "    print(error)\n",
    "finally: \n",
    "    if cur is not None: \n",
    "        cur.close() \n",
    "    if conn is not None: \n",
    "        conn.close()"
   ]
  }
 ],
 "metadata": {
  "kernelspec": {
   "display_name": "Python 3 (ipykernel)",
   "language": "python",
   "name": "python3"
  },
  "language_info": {
   "codemirror_mode": {
    "name": "ipython",
    "version": 3
   },
   "file_extension": ".py",
   "mimetype": "text/x-python",
   "name": "python",
   "nbconvert_exporter": "python",
   "pygments_lexer": "ipython3",
   "version": "3.11.2"
  }
 },
 "nbformat": 4,
 "nbformat_minor": 5
}
